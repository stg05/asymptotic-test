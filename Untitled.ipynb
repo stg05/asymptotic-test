{
 "cells": [
  {
   "cell_type": "code",
   "execution_count": 2,
   "id": "c66ea54f-4e78-4b5e-9664-1dd43e02df0a",
   "metadata": {},
   "outputs": [],
   "source": [
    "import pandas as pd\n",
    "import numpy as np\n",
    "import matplotlib.pyplot as plt"
   ]
  },
  {
   "cell_type": "code",
   "execution_count": null,
   "id": "e7fcb80b-ca53-43d8-86af-ad92b5d9616c",
   "metadata": {},
   "outputs": [],
   "source": [
    "df = pd.read_csv(\"testdata.csv\", delimiter = ';')"
   ]
  }
 ],
 "metadata": {
  "kernelspec": {
   "display_name": "Python 3 (ipykernel)",
   "language": "python",
   "name": "python3"
  },
  "language_info": {
   "codemirror_mode": {
    "name": "ipython",
    "version": 3
   },
   "file_extension": ".py",
   "mimetype": "text/x-python",
   "name": "python",
   "nbconvert_exporter": "python",
   "pygments_lexer": "ipython3",
   "version": "3.11.3"
  }
 },
 "nbformat": 4,
 "nbformat_minor": 5
}
